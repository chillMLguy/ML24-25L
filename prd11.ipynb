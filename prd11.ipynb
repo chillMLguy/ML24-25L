{
  "nbformat": 4,
  "nbformat_minor": 0,
  "metadata": {
    "colab": {
      "provenance": [],
      "authorship_tag": "ABX9TyPl+NuoI1FBYndrU6OhFReX",
      "include_colab_link": true
    },
    "kernelspec": {
      "name": "python3",
      "display_name": "Python 3"
    },
    "language_info": {
      "name": "python"
    }
  },
  "cells": [
    {
      "cell_type": "markdown",
      "metadata": {
        "id": "view-in-github",
        "colab_type": "text"
      },
      "source": [
        "<a href=\"https://colab.research.google.com/github/chillMLguy/ML24-25L/blob/main/prd11.ipynb\" target=\"_parent\"><img src=\"https://colab.research.google.com/assets/colab-badge.svg\" alt=\"Open In Colab\"/></a>"
      ]
    },
    {
      "cell_type": "markdown",
      "source": [
        "##Praca domowa nr 11"
      ],
      "metadata": {
        "id": "UwgP1QWkjq3Y"
      }
    },
    {
      "cell_type": "markdown",
      "source": [
        "[***Załącznik z ilustracją działania***](IMG_1799.pdf)"
      ],
      "metadata": {
        "id": "3AfsivAX44qT"
      }
    },
    {
      "cell_type": "markdown",
      "source": [
        "#1. Co to jest transponowana konwolucja ?\n",
        "\n",
        "Konwolucja transponowana to operacja, której celem jest powiększenie wymiarów mapy cech. Zamiast zagęszczać obraz, jak w zwykłej konwolucji, rozprowadza ona każdą wartość wejściową na większy obszar wyjściowy, dzięki czemu liczba pikseli rośnie.\n",
        "\n",
        "#2. Czym się różni od zwykłeś konwolucji ?\n",
        "\n",
        "W zwykłej konwolucji input zostaje skompresowane do mniejszego na wyjściu za pomocą filtra. Zostają obliczane iloczyny skalarne dla następnych małych części wejściowej macierzy i z tych wartości tworzy się nowy tensor.\n",
        "\n",
        "W konwolucji transponowanej proces jest odwrócony mały input rozszerza jest rozszerzony do większego outputu, również za pomocą filtra tylko w nieco inny sposób.\n",
        "\n",
        "#3. Jak następuje powiększanie mapy cech?\n",
        "\n",
        "Rozszerzanie przebiega tak: filtr jest mnożony przez każdy składnik tensora, a otrzymane wartości trafiają w ściśle wyznaczone miejsca wyjścia. Przechodząc po następnych wartościach , te które nachodzą na siebie na wyjściu są dodawane.\n",
        "\n",
        "W zależności od filtra wartości są mnożone przez inne liczby. Stride w tej operacji reguluje nam w które miejsce następna wartość zostanie dodana.\n",
        "\n",
        "#4. Co to jest padding, stride i rozmiar filtra?\n",
        "\n",
        "\n",
        "Padding - operacja, która dodaje zera wokół wejściowego tensora, która reguluję rozmiar wyjścia. W przypadku transponowanej konwolucji padding, poniekąd zmienia która część liczb(powstałych przez przemnożenie filtra przez wartości z tensora wejściowego) zostanie naniesiona na wyjście. Szczegółowy sposób działania został przedstawiony na załączonym obrazku.\n",
        "\n",
        "Stride - liczba, która mówi nam o ile filtr przesunie się w każdym kroku. Stride w konwolucji transponowanej powiększa nam output. W zamieszczonej grafice dokładnie pokaże jak działa.\n",
        "\n",
        "Rozmiar filtra - rozmiar, wymiar filtra, który przechodzi po kolejnych elementach tensora. W zależności od tej liczby:\n",
        "\n",
        "- w normalnej konwolucji więcej wartości z wejściowego tensora ma wpływ na pojedyńcze wartości na wyjściu\n",
        "\n",
        "- w konwolucji transponowaj pojedyńcze wartości z wejściowego tensora mają wpływ na więcej wartości na wyjściu\n",
        "\n",
        "\n",
        "\n"
      ],
      "metadata": {
        "id": "xhnVVqpKjvoU"
      }
    }
  ]
}